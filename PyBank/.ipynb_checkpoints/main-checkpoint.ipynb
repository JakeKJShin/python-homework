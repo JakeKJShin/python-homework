{
 "cells": [
  {
   "cell_type": "code",
   "execution_count": 10,
   "id": "e765d796-36a1-4139-98d9-24dd1f5bfba6",
   "metadata": {},
   "outputs": [
    {
     "name": "stdout",
     "output_type": "stream",
     "text": [
      "Financial Analysis\n",
      "-------------------------\n",
      "Total Months: 86\n",
      "Total : $38382578\n",
      "Average Change: $446309.05\n",
      "Greatest Increase: Feb-2012 ($1926159)\n",
      "Greatest Decrease: Sep-2013 ($-2196167)\n"
     ]
    }
   ],
   "source": [
    "from pathlib import Path\n",
    "import csv\n",
    "\n",
    "\n",
    "# Establishing Paths\n",
    "output_path = Path(\"output.txt\")\n",
    "csvpath = Path(\"budget_data.csv\")\n",
    "\n",
    "\n",
    "# Identify Variables\n",
    "no_months = 0\n",
    "total_pnl = 0\n",
    "prev_pnl = 0\n",
    "pnl_change = 0\n",
    "greatest_increase = [\"\", 0]\n",
    "greatest_decrease = [\"\", 0]\n",
    "pnl_changes = []\n",
    "\n",
    "# Read File\n",
    "with open(csvpath) as csvfile:\n",
    "    reader = csv.DictReader(csvfile)\n",
    "\n",
    "    #loop through rows and add up the total months and profit/losses \n",
    "    for row in reader:\n",
    "        no_months = no_months + 1\n",
    "        total_pnl = total_pnl + int(row[\"Profit/Losses\"])\n",
    "       \n",
    "        # Track of changes **JS Note - Need to exclude first entry (Jan-2010 value)**\n",
    "        pnl_change = int(row[\"Profit/Losses\"]) - prev_pnl\n",
    "\n",
    "        # Reset the value of prev_profit_loss to the complete row \n",
    "        prev_pnl = int(row[\"Profit/Losses\"])\n",
    "      \n",
    "        # Find the greatest increase\n",
    "        if (pnl_change > greatest_increase[1]):\n",
    "            greatest_increase[1] = pnl_change\n",
    "            greatest_increase[0] = row[\"Date\"]\n",
    "\n",
    "        # Find the greatest decrease\n",
    "        if (pnl_change < greatest_decrease[1]):\n",
    "            greatest_decrease[1] = pnl_change\n",
    "            greatest_decrease[0] = row[\"Date\"]\n",
    "\n",
    "        # Add to the profit_loss_changes list at the end of the column\n",
    "        pnl_changes.append(int(row[\"Profit/Losses\"]))\n",
    "\n",
    "    # Calculate the profit loss average\n",
    "    pnl_avg = sum(pnl_changes) / int(len(pnl_changes))\n",
    "    \n",
    "    # Confirm Output\n",
    "    print(\"Financial Analysis\")\n",
    "    print(\"-------------------------\")\n",
    "    print(\"Total Months: \" + str(no_months))\n",
    "    print(\"Total : \" + \"$\" + str(total_pnl))\n",
    "    print(\"Average Change: \" + \"$\" + str(round(sum(pnl_changes) / len(pnl_changes),2)))\n",
    "    print(\"Greatest Increase: \" + str(greatest_increase[0]) + \" ($\" +  str(greatest_increase[1]) + \")\") \n",
    "    print(\"Greatest Decrease: \" + str(greatest_decrease[0]) + \" ($\" +  str(greatest_decrease[1]) + \")\")\n",
    "\n",
    "    \n",
    "# Output Text File\n",
    "with open(output_path, \"w\") as textfile:\n",
    "    print(\"Financial Analysis\", file=textfile)\n",
    "    print(\"----------------------------\", file=textfile)\n",
    "    print(f\"Total Months: {no_months}\", file=textfile)\n",
    "    print(f\"Total: ${total_pnl}\", file=textfile)\n",
    "    print(f\"Average  Change: ${round(pnl_avg,2)}\", file=textfile)\n",
    "    print(f\"Greatest Increase in Profits: \" + str(greatest_increase[0]) + \" ($\" + str(greatest_increase[1]) + \")\", file=textfile)\n",
    "    print(f\"Greatest Decrease in Profits: \" + str(greatest_decrease[0]) + \" ($\" + str(greatest_decrease[1]) + \")\", file=textfile)"
   ]
  }
 ],
 "metadata": {
  "kernelspec": {
   "display_name": "Python 3 (ipykernel)",
   "language": "python",
   "name": "python3"
  },
  "language_info": {
   "codemirror_mode": {
    "name": "ipython",
    "version": 3
   },
   "file_extension": ".py",
   "mimetype": "text/x-python",
   "name": "python",
   "nbconvert_exporter": "python",
   "pygments_lexer": "ipython3",
   "version": "3.8.8"
  }
 },
 "nbformat": 4,
 "nbformat_minor": 5
}
